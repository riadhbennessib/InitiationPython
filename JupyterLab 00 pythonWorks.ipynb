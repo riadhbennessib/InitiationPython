{
 "cells": [
  {
   "cell_type": "markdown",
   "metadata": {},
   "source": [
    "# **JupyterLab 00 pythonWorks.ipynb**"
   ]
  },
  {
   "cell_type": "markdown",
   "metadata": {},
   "source": [
    "# Date     : 2018 10 31\n",
    "\n",
    "## Auteur : **riadh ben nessib**\n",
    "\n",
    "![](../images/riadhbennessib.png)\n"
   ]
  },
  {
   "cell_type": "markdown",
   "metadata": {},
   "source": [
    "# Import libraries"
   ]
  },
  {
   "cell_type": "code",
   "execution_count": 1,
   "metadata": {
    "collapsed": true
   },
   "outputs": [],
   "source": [
    "import sys\n",
    "import numpy as np\n",
    "import scipy as sp\n",
    "import sympy as sm\n",
    "import pandas as pd\n",
    "import sklearn as sk\n",
    "import matplotlib as mp\n",
    "import matplotlib.pyplot as plt\n",
    "%matplotlib inline"
   ]
  },
  {
   "cell_type": "code",
   "execution_count": 2,
   "metadata": {
    "collapsed": false
   },
   "outputs": [
    {
     "name": "stdout",
     "output_type": "stream",
     "text": [
      "python : 3.6.6 (v3.6.6:4cf1f54eb7, Jun 27 2018, 02:47:15) [MSC v.1900 32 bit (Intel)]\n",
      "numpy : 1.14.5\n",
      "scipy : 1.1.0\n",
      "sympy : 1.2\n",
      "pandas : 0.23.4\n",
      "sklearn : 0.19.2\n",
      "matplotlib : 2.2.3\n"
     ]
    }
   ],
   "source": [
    "print( 'python : {}'.format(sys.version))\n",
    "print( 'numpy : {}'.format(np.__version__))\n",
    "print( 'scipy : {}'.format(sp.__version__))\n",
    "print( 'sympy : {}'.format(sm.__version__))\n",
    "print( 'pandas : {}'.format(pd.__version__))\n",
    "print( 'sklearn : {}'.format(sk.__version__))\n",
    "print( 'matplotlib : {}'.format(mp.__version__))"
   ]
  },
  {
   "cell_type": "markdown",
   "metadata": {},
   "source": [
    "# Introduction"
   ]
  },
  {
   "cell_type": "code",
   "execution_count": 3,
   "metadata": {},
   "outputs": [
    {
     "data": {
      "text/plain": [
       "\u001b[1;31mType:\u001b[0m        module\n",
       "\u001b[1;31mString form:\u001b[0m <module 'sys' (built-in)>\n",
       "\u001b[1;31mDocstring:\u001b[0m  \n",
       "This module provides access to some objects used or maintained by the\n",
       "interpreter and to functions that interact strongly with the interpreter.\n",
       "\n",
       "Dynamic objects:\n",
       "\n",
       "argv -- command line arguments; argv[0] is the script pathname if known\n",
       "path -- module search path; path[0] is the script directory, else ''\n",
       "modules -- dictionary of loaded modules\n",
       "\n",
       "displayhook -- called to show results in an interactive session\n",
       "excepthook -- called to handle any uncaught exception other than SystemExit\n",
       "  To customize printing in an interactive session or to install a custom\n",
       "  top-level exception handler, assign other functions to replace these.\n",
       "\n",
       "stdin -- standard input file object; used by input()\n",
       "stdout -- standard output file object; used by print()\n",
       "stderr -- standard error object; used for error messages\n",
       "  By assigning other file objects (or objects that behave like files)\n",
       "  to these, it is possible to redirect all of the interpreter's I/O.\n",
       "\n",
       "last_type -- type of last uncaught exception\n",
       "last_value -- value of last uncaught exception\n",
       "last_traceback -- traceback of last uncaught exception\n",
       "  These three are only available in an interactive session after a\n",
       "  traceback has been printed.\n",
       "\n",
       "Static objects:\n",
       "\n",
       "builtin_module_names -- tuple of module names built into this interpreter\n",
       "copyright -- copyright notice pertaining to this interpreter\n",
       "exec_prefix -- prefix used to find the machine-specific Python library\n",
       "executable -- absolute path of the executable binary of the Python interpreter\n",
       "float_info -- a struct sequence with information about the float implementation.\n",
       "float_repr_style -- string indicating the style of repr() output for floats\n",
       "hash_info -- a struct sequence with information about the hash algorithm.\n",
       "hexversion -- version information encoded as a single integer\n",
       "implementation -- Python implementation information.\n",
       "int_info -- a struct sequence with information about the int implementation.\n",
       "maxsize -- the largest supported length of containers.\n",
       "maxunicode -- the value of the largest Unicode code point\n",
       "platform -- platform identifier\n",
       "prefix -- prefix used to find the Python library\n",
       "thread_info -- a struct sequence with information about the thread implementation.\n",
       "version -- the version of this interpreter as a string\n",
       "version_info -- version information as a named tuple\n",
       "dllhandle -- [Windows only] integer handle of the Python DLL\n",
       "winver -- [Windows only] version number of the Python DLL\n",
       "_enablelegacywindowsfsencoding -- [Windows only] \n",
       "__stdin__ -- the original stdin; don't touch!\n",
       "__stdout__ -- the original stdout; don't touch!\n",
       "__stderr__ -- the original stderr; don't touch!\n",
       "__displayhook__ -- the original displayhook; don't touch!\n",
       "__excepthook__ -- the original excepthook; don't touch!\n",
       "\n",
       "Functions:\n",
       "\n",
       "displayhook() -- print an object to the screen, and save it in builtins._\n",
       "excepthook() -- print an exception and its traceback to sys.stderr\n",
       "exc_info() -- return thread-safe information about the current exception\n",
       "exit() -- exit the interpreter by raising SystemExit\n",
       "getdlopenflags() -- returns flags to be used for dlopen() calls\n",
       "getprofile() -- get the global profiling function\n",
       "getrefcount() -- return the reference count for an object (plus one :-)\n",
       "getrecursionlimit() -- return the max recursion depth for the interpreter\n",
       "getsizeof() -- return the size of an object in bytes\n",
       "gettrace() -- get the global debug tracing function\n",
       "setcheckinterval() -- control how often the interpreter checks for events\n",
       "setdlopenflags() -- set the flags to be used for dlopen() calls\n",
       "setprofile() -- set the global profiling function\n",
       "setrecursionlimit() -- set the max recursion depth for the interpreter\n",
       "settrace() -- set the global debug tracing function\n"
      ]
     },
     "metadata": {},
     "output_type": "display_data"
    }
   ],
   "source": [
    "sys?"
   ]
  },
  {
   "cell_type": "code",
   "execution_count": null,
   "metadata": {},
   "outputs": [],
   "source": []
  },
  {
   "cell_type": "markdown",
   "metadata": {},
   "source": [
    "# Variables \n",
    "* integer float complex\n",
    "* boolean string\n",
    "* type int float str\n",
    "* print input\n",
    "* set tuple list\n",
    "* if for while\n",
    "* dic\tjason xml\n",
    "* txt   csv   xsl\t"
   ]
  },
  {
   "cell_type": "markdown",
   "metadata": {},
   "source": [
    "# Fonctions  \n",
    "* def lambda\n",
    "* compréhenssions itérateurs générateurs \n",
    "* apply filtre map\n",
    "* math random re"
   ]
  },
  {
   "cell_type": "markdown",
   "metadata": {},
   "source": [
    "# Developpement"
   ]
  },
  {
   "cell_type": "code",
   "execution_count": null,
   "metadata": {},
   "outputs": [],
   "source": []
  },
  {
   "cell_type": "markdown",
   "metadata": {},
   "source": [
    "# Conclusion"
   ]
  },
  {
   "cell_type": "code",
   "execution_count": null,
   "metadata": {},
   "outputs": [],
   "source": []
  }
 ],
 "metadata": {
  "kernelspec": {
   "display_name": "Python 3",
   "language": "python",
   "name": "python3"
  },
  "language_info": {
   "codemirror_mode": {
    "name": "ipython",
    "version": 3
   },
   "file_extension": ".py",
   "mimetype": "text/x-python",
   "name": "python",
   "nbconvert_exporter": "python",
   "pygments_lexer": "ipython3",
   "version": "3.6.6"
  }
 },
 "nbformat": 4,
 "nbformat_minor": 2
}
