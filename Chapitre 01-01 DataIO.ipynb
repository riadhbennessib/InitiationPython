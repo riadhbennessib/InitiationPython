{
 "cells": [
  {
   "cell_type": "markdown",
   "metadata": {},
   "source": [
    "# **Introduction à Python**.\n",
    "###  (c) 2019  **riadh BEN NESSIB**\n",
    "![](Images/riadhbennessib.png)"
   ]
  },
  {
   "cell_type": "markdown",
   "metadata": {},
   "source": [
    "# **Chapitre 01-01 DataIO**\n",
    "## Les objectifs\n",
    "\n",
    "A la fin de ce chapitre vous apprendrez :\n",
    "1. La structure Input-Calcul-Output de tout script Python. \n",
    "2. L'écriture de simples code Python.\n",
    "\n",
    "### En Physique-Astronomie\n",
    "1. La différence entre le poids et la masse.\n",
    "\n",
    "### En Mathèmatique-Analyse\n",
    "(rien)\n",
    "\n",
    "### En Informatique-Python\n",
    "1. La structure Input-Calcul-Output d'un programme python\n",
    "2. Les fonctions print(), input() , int() et float()\n",
    "3. Calcul des expressions simples avec + - * / ** // %"
   ]
  },
  {
   "cell_type": "markdown",
   "metadata": {},
   "source": [
    "## Data Output"
   ]
  },
  {
   "cell_type": "code",
   "execution_count": null,
   "metadata": {},
   "outputs": [],
   "source": [
    "# Afficher le texte Hello World!\n",
    "print('Hello World!')"
   ]
  },
  {
   "cell_type": "code",
   "execution_count": null,
   "metadata": {},
   "outputs": [],
   "source": [
    "# Affichage multiple\n",
    "print('Bonjour ','les astronomes!')"
   ]
  },
  {
   "cell_type": "code",
   "execution_count": null,
   "metadata": {},
   "outputs": [],
   "source": [
    "# Affiche le message msg.\n",
    "msg='Hello World!'  # msg est une chaine de caractères \n",
    "print(msg)"
   ]
  },
  {
   "cell_type": "markdown",
   "metadata": {},
   "source": [
    "## Exemple 01\n",
    "Afficher une chaine msg contenant le texte Bonjour les Astronomes\n"
   ]
  },
  {
   "cell_type": "code",
   "execution_count": null,
   "metadata": {},
   "outputs": [],
   "source": [
    "# Template\n",
    "msg='----------'    # affecter le contenue Bonjour les Astronomes à la variable msg\n",
    "print('----------') # afficher la valeur de la variable msg"
   ]
  },
  {
   "cell_type": "markdown",
   "metadata": {},
   "source": [
    "# Calcul arithmétique"
   ]
  },
  {
   "cell_type": "code",
   "execution_count": null,
   "metadata": {},
   "outputs": [],
   "source": [
    "1+2+3+4+5+6+7+8+9  # shift Enter pour executer le code"
   ]
  },
  {
   "cell_type": "code",
   "execution_count": null,
   "metadata": {},
   "outputs": [],
   "source": [
    "expr=(1+(2*5)+3)/4 # affecter le résultat à la variable expr\n",
    "print(expr)        # afficher le contenue de la variable expr"
   ]
  },
  {
   "cell_type": "code",
   "execution_count": null,
   "metadata": {},
   "outputs": [],
   "source": [
    "a=1\n",
    "b=2\n",
    "c=a+2*b\n",
    "print('La valeur de la variable c est :',c) # affiche le message et la valeur de c"
   ]
  },
  {
   "cell_type": "markdown",
   "metadata": {},
   "source": [
    "Les opérations + - * /   ** // %"
   ]
  },
  {
   "cell_type": "code",
   "execution_count": 1,
   "metadata": {},
   "outputs": [
    {
     "name": "stdout",
     "output_type": "stream",
     "text": [
      "3\n",
      "-1\n",
      "30\n",
      "8\n",
      "1.4\n",
      "1\n",
      "2\n"
     ]
    }
   ],
   "source": [
    "print(1+2)\n",
    "print(1-2)\n",
    "print(5*6)\n",
    "print(7/5)  # division (réelle)\n",
    "\n",
    "print(2**3) # 2 puissance 3\n",
    "print(7//5) # division entiére (enclidienne)\n",
    "print(7%5)  # reste de la division entière (modulo)"
   ]
  },
  {
   "cell_type": "markdown",
   "metadata": {},
   "source": [
    "# Data Input"
   ]
  },
  {
   "cell_type": "code",
   "execution_count": null,
   "metadata": {},
   "outputs": [],
   "source": [
    "nom=input('Entrer votre nom svp : ') # Entrer votre nom et cliquer sur Enter\n",
    "print('Bonjour ',nom) # affiche Bonjour suivit de votre nom!"
   ]
  },
  {
   "cell_type": "code",
   "execution_count": null,
   "metadata": {},
   "outputs": [],
   "source": [
    "x=input('Entrer un nombre :') # ATTETION : x est une chaine de  caractères!\n",
    "print(x) # x est de type string!"
   ]
  },
  {
   "cell_type": "code",
   "execution_count": 18,
   "metadata": {},
   "outputs": [
    {
     "ename": "TypeError",
     "evalue": "must be str, not int",
     "output_type": "error",
     "traceback": [
      "\u001b[0;31m---------------------------------------------------------------------------\u001b[0m",
      "\u001b[0;31mTypeError\u001b[0m                                 Traceback (most recent call last)",
      "\u001b[0;32m<ipython-input-18-403d8eb1f9d4>\u001b[0m in \u001b[0;36m<module>\u001b[0;34m\u001b[0m\n\u001b[0;32m----> 1\u001b[0;31m \u001b[0mx\u001b[0m\u001b[0;34m+\u001b[0m\u001b[0;36m6\u001b[0m \u001b[0;31m# x est de type string! Executer ce code pour voir une error qui se produit!\u001b[0m\u001b[0;34m\u001b[0m\u001b[0m\n\u001b[0m",
      "\u001b[0;31mTypeError\u001b[0m: must be str, not int"
     ]
    }
   ],
   "source": [
    "x+6 # Executer ce code pour voir une erreur qui se produit!"
   ]
  },
  {
   "cell_type": "code",
   "execution_count": 19,
   "metadata": {},
   "outputs": [
    {
     "data": {
      "text/plain": [
       "str"
      ]
     },
     "execution_count": 19,
     "metadata": {},
     "output_type": "execute_result"
    }
   ],
   "source": [
    "# x est de type string!\n",
    "type(x)"
   ]
  },
  {
   "cell_type": "code",
   "execution_count": 20,
   "metadata": {},
   "outputs": [
    {
     "data": {
      "text/plain": [
       "int"
      ]
     },
     "execution_count": 20,
     "metadata": {},
     "output_type": "execute_result"
    }
   ],
   "source": [
    "# transformer x en un entier avec la fonction int(...)\n",
    "x=int(x)\n",
    "type(x)"
   ]
  },
  {
   "cell_type": "code",
   "execution_count": 22,
   "metadata": {},
   "outputs": [
    {
     "name": "stdout",
     "output_type": "stream",
     "text": [
      "10\n"
     ]
    }
   ],
   "source": [
    "# ici x est un entier, on peut faire du calcul!\n",
    "print(x+6)"
   ]
  },
  {
   "cell_type": "markdown",
   "metadata": {},
   "source": [
    "## Exemple 02\n"
   ]
  },
  {
   "cell_type": "code",
   "execution_count": null,
   "metadata": {},
   "outputs": [],
   "source": [
    "# Entrer votre masse en kg\n",
    "masse=input('Entrer votre masse svp ')"
   ]
  },
  {
   "cell_type": "code",
   "execution_count": 24,
   "metadata": {},
   "outputs": [],
   "source": [
    "# Transformer masse en un réel (float)\n",
    "masse=float(masse)"
   ]
  },
  {
   "cell_type": "code",
   "execution_count": 25,
   "metadata": {},
   "outputs": [],
   "source": [
    "# calculer votre poids\n",
    "poids= masse * 9.81  ## P=m*g avec g=9.8 m/s^2 accélération de pesanteur"
   ]
  },
  {
   "cell_type": "code",
   "execution_count": null,
   "metadata": {},
   "outputs": [],
   "source": [
    "# affiche votre poids en Newton= Kg* m/s^2\n",
    "print('Votre poids est  ', poids)"
   ]
  },
  {
   "cell_type": "markdown",
   "metadata": {},
   "source": [
    "# Python is fun!"
   ]
  },
  {
   "cell_type": "code",
   "execution_count": null,
   "metadata": {},
   "outputs": [],
   "source": []
  }
 ],
 "metadata": {
  "kernelspec": {
   "display_name": "Python 3",
   "language": "python",
   "name": "python3"
  },
  "language_info": {
   "codemirror_mode": {
    "name": "ipython",
    "version": 3
   },
   "file_extension": ".py",
   "mimetype": "text/x-python",
   "name": "python",
   "nbconvert_exporter": "python",
   "pygments_lexer": "ipython3",
   "version": "3.6.6"
  }
 },
 "nbformat": 4,
 "nbformat_minor": 1
}
